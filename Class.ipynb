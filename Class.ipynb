{
 "cells": [
  {
   "cell_type": "code",
   "execution_count": 3,
   "id": "8a2a199e-4e5e-43b2-bec4-acbe70e3944a",
   "metadata": {},
   "outputs": [],
   "source": [
    "class  SubfieldsInAI:\n",
    "    def Subfields():\n",
    "        print(\"Sub-fields in AI are:\")\n",
    "        print(\"Machine Learning\")\n",
    "        print(\"Neural Networks\")\n",
    "        print(\"Vision\")\n",
    "        print(\"Robotics\")\n",
    "        print(\"Speech Processing\")\n",
    "        print(\"Natural Language Processing\")"
   ]
  },
  {
   "cell_type": "code",
   "execution_count": 4,
   "id": "3c95e8c1-c2a9-42c6-be76-2d98cb903687",
   "metadata": {},
   "outputs": [
    {
     "name": "stdout",
     "output_type": "stream",
     "text": [
      "Sub-fields in AI are:\n",
      "Machine Learning\n",
      "Neural Networks\n",
      "Vision\n",
      "Robotics\n",
      "Speech Processing\n",
      "Natural Language Processing\n"
     ]
    }
   ],
   "source": [
    " SubfieldsInAI.Subfields()"
   ]
  },
  {
   "cell_type": "code",
   "execution_count": 5,
   "id": "6746ce06-6c3b-4090-b4a6-60659bf459b4",
   "metadata": {},
   "outputs": [],
   "source": [
    "class OddEven:\n",
    "    def OddEven():\n",
    "        num=int(input(\"Enter a number:\"));\n",
    "        if num%2==0:\n",
    "            print(num,\"is Even number\")\n",
    "        else:\n",
    "             print(num,\"is Odd number\")\n",
    "        "
   ]
  },
  {
   "cell_type": "code",
   "execution_count": 6,
   "id": "2c34c793-c177-4c5c-a157-4d050cb85f62",
   "metadata": {},
   "outputs": [
    {
     "name": "stdin",
     "output_type": "stream",
     "text": [
      "Enter a number: 52452\n"
     ]
    },
    {
     "name": "stdout",
     "output_type": "stream",
     "text": [
      "52452 is Even number\n"
     ]
    }
   ],
   "source": [
    "OddEven.OddEven()"
   ]
  },
  {
   "cell_type": "code",
   "execution_count": 7,
   "id": "37b8aa30-5d3e-4158-90cd-fb058cb918ea",
   "metadata": {},
   "outputs": [],
   "source": [
    "class ElegiblityForMarriage:\n",
    "    def Elegible():\n",
    "        gender = input(\"Your Gender: \")\n",
    "        age = int(input(\"Your age: \"))\n",
    "        if gender==\"male\" and age >=21:\n",
    "            print(\"Eligible\");\n",
    "        elif gender==\"female\" and age >=18:\n",
    "            print(\"Eligible\");\n",
    "        else:\n",
    "            print(\"Not Eligible\");"
   ]
  },
  {
   "cell_type": "code",
   "execution_count": 8,
   "id": "d0299f35-c468-497f-9348-52b0b488a9dd",
   "metadata": {},
   "outputs": [
    {
     "name": "stdin",
     "output_type": "stream",
     "text": [
      "Your Gender:  male\n",
      "Your age:  20\n"
     ]
    },
    {
     "name": "stdout",
     "output_type": "stream",
     "text": [
      "Not Eligible\n"
     ]
    }
   ],
   "source": [
    "ElegiblityForMarriage.Elegible()\n"
   ]
  },
  {
   "cell_type": "code",
   "execution_count": 9,
   "id": "bbc8c894-11a2-41c2-9960-a1e1cc2a18f3",
   "metadata": {},
   "outputs": [],
   "source": [
    "class FindPercent:\n",
    "    def percentage():\n",
    "        sub1=int(input(\"Subject1=\"))\n",
    "        sub2=int(input(\"Subject2=\"))\n",
    "        sub3=int(input(\"Subject3=\"))\n",
    "        sub4=int(input(\"Subject4=\"))\n",
    "        sub5=int(input(\"Subject5=\"))\n",
    "        total=sub1+sub2+sub3+sub4+sub5\n",
    "        percent=total/5\n",
    "        print(\"Total:\",total)\n",
    "        print(\"Percentage:\",percent)"
   ]
  },
  {
   "cell_type": "code",
   "execution_count": 10,
   "id": "732d37c3-9360-40a7-b6a9-9cba276db105",
   "metadata": {},
   "outputs": [
    {
     "name": "stdin",
     "output_type": "stream",
     "text": [
      "Subject1= 98\n",
      "Subject2= 87\n",
      "Subject3= 95\n",
      "Subject4= 95\n",
      "Subject5= 93\n"
     ]
    },
    {
     "name": "stdout",
     "output_type": "stream",
     "text": [
      "Total: 468\n",
      "Percentage: 93.6\n"
     ]
    }
   ],
   "source": [
    "FindPercent.percentage()"
   ]
  },
  {
   "cell_type": "code",
   "execution_count": 12,
   "id": "b2c03e02-2821-4ba2-afb4-f80038ffe744",
   "metadata": {},
   "outputs": [],
   "source": [
    "class triangle:\n",
    "    def triangle():\n",
    "        h=float(input(\"Height:\"))\n",
    "        b=float(input(\"Breadth:\"))\n",
    "        print(\"Area formula: (Height*Breadth)/2\") \n",
    "        area=(h*b)/2\n",
    "        print(\"Area of Triangle:\",area) \n",
    "        h1=float(input(\"Height1:\"))\n",
    "        h2=float(input(\"Height2:\"))\n",
    "        b=float(input(\"Breadth:\"))\n",
    "        print(\"Perimeter formula: Height1+Height2+Breadth\") \n",
    "        perimeter=h1+h2+b\n",
    "        print(\"Perimeter of Triangle:\",perimeter)"
   ]
  },
  {
   "cell_type": "code",
   "execution_count": 13,
   "id": "f4948af6-0c8d-4249-bf4f-2cb1c1f81e0d",
   "metadata": {},
   "outputs": [
    {
     "name": "stdin",
     "output_type": "stream",
     "text": [
      "Height: 32\n",
      "Breadth: 34\n"
     ]
    },
    {
     "name": "stdout",
     "output_type": "stream",
     "text": [
      "Area formula: (Height*Breadth)/2\n",
      "Area of Triangle: 544.0\n"
     ]
    },
    {
     "name": "stdin",
     "output_type": "stream",
     "text": [
      "Height1: 2\n",
      "Height2: 4\n",
      "Breadth: 4\n"
     ]
    },
    {
     "name": "stdout",
     "output_type": "stream",
     "text": [
      "Perimeter formula: Height1+Height2+Breadth\n",
      "Perimeter of Triangle: 10.0\n"
     ]
    }
   ],
   "source": [
    "triangle.triangle()"
   ]
  },
  {
   "cell_type": "code",
   "execution_count": null,
   "id": "5f62ee08-10be-4881-8c0c-7e059c1b3b11",
   "metadata": {},
   "outputs": [],
   "source": []
  }
 ],
 "metadata": {
  "kernelspec": {
   "display_name": "Python 3 (ipykernel)",
   "language": "python",
   "name": "python3"
  },
  "language_info": {
   "codemirror_mode": {
    "name": "ipython",
    "version": 3
   },
   "file_extension": ".py",
   "mimetype": "text/x-python",
   "name": "python",
   "nbconvert_exporter": "python",
   "pygments_lexer": "ipython3",
   "version": "3.12.7"
  }
 },
 "nbformat": 4,
 "nbformat_minor": 5
}
