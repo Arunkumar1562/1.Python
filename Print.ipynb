{
 "cells": [
  {
   "cell_type": "code",
   "execution_count": 1,
   "id": "76173564-7013-4612-b9a4-e33918f2e12f",
   "metadata": {},
   "outputs": [
    {
     "name": "stdout",
     "output_type": "stream",
     "text": [
      "The addition of two numbers\n"
     ]
    }
   ],
   "source": [
    "print(\"The addition of two numbers\")"
   ]
  },
  {
   "cell_type": "code",
   "execution_count": 8,
   "id": "4c4eefc6-6e65-4f00-82c9-304c5c80ddb9",
   "metadata": {},
   "outputs": [
    {
     "name": "stdout",
     "output_type": "stream",
     "text": [
      "The addition of two numbers\n",
      "The number1 is 10\n",
      "The number2 is 30\n",
      "The answer  is 40\n"
     ]
    }
   ],
   "source": [
    "print(\"The addition of two numbers\")\n",
    "num1=10\n",
    "num2=30\n",
    "add=num1+num2\n",
    "print(\"The number1 is\",num1)\n",
    "print(\"The number2 is\",num2)\n",
    "print(\"The answer  is\",add)\n"
   ]
  },
  {
   "cell_type": "code",
   "execution_count": 11,
   "id": "c4420d76-ddf3-4fd4-8574-9390743fa376",
   "metadata": {},
   "outputs": [
    {
     "name": "stdin",
     "output_type": "stream",
     "text": [
      "Enter number1: 10\n"
     ]
    }
   ],
   "source": [
    "num1=int(input(\"Enter number1:\"))\n",
    "     \n",
    "\n"
   ]
  },
  {
   "cell_type": "code",
   "execution_count": 12,
   "id": "85baba25-2acd-484c-81d5-3687e9f5f300",
   "metadata": {},
   "outputs": [
    {
     "name": "stdin",
     "output_type": "stream",
     "text": [
      "Enter number2: 50\n"
     ]
    }
   ],
   "source": [
    "num2=int(input(\"Enter number2:\"))"
   ]
  },
  {
   "cell_type": "code",
   "execution_count": 14,
   "id": "e9d44304-838f-4afc-90b9-bf15545d5ea9",
   "metadata": {},
   "outputs": [
    {
     "name": "stdout",
     "output_type": "stream",
     "text": [
      "Addition of two num is 60\n"
     ]
    }
   ],
   "source": [
    "add=num1+num2\n",
    "print(\"Addition of two num is\",add)\n"
   ]
  },
  {
   "cell_type": "code",
   "execution_count": null,
   "id": "2ba6fa99-f8f5-419d-965b-01bc015247c3",
   "metadata": {},
   "outputs": [],
   "source": []
  }
 ],
 "metadata": {
  "kernelspec": {
   "display_name": "Python 3 (ipykernel)",
   "language": "python",
   "name": "python3"
  },
  "language_info": {
   "codemirror_mode": {
    "name": "ipython",
    "version": 3
   },
   "file_extension": ".py",
   "mimetype": "text/x-python",
   "name": "python",
   "nbconvert_exporter": "python",
   "pygments_lexer": "ipython3",
   "version": "3.12.7"
  }
 },
 "nbformat": 4,
 "nbformat_minor": 5
}
