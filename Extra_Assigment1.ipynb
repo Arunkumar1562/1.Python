{
 "cells": [
  {
   "cell_type": "code",
   "execution_count": 1,
   "id": "d603a2e0-6f0b-4c62-8341-5f715540ddd3",
   "metadata": {},
   "outputs": [
    {
     "name": "stdout",
     "output_type": "stream",
     "text": [
      "HOPE AI \n"
     ]
    }
   ],
   "source": [
    "#1.print Statement \n",
    "print('HOPE AI ')"
   ]
  },
  {
   "cell_type": "code",
   "execution_count": 5,
   "id": "8f22f65b-47cf-42be-9089-12d8f5275509",
   "metadata": {},
   "outputs": [
    {
     "name": "stdin",
     "output_type": "stream",
     "text": [
      "Enter your institute name: HOPE AI\n"
     ]
    }
   ],
   "source": [
    "#2. Buy input  \n",
    "ins_name=input('Enter your institute name:');\n",
    "#print('Enter your institute name:',ins_name)"
   ]
  },
  {
   "cell_type": "code",
   "execution_count": 12,
   "id": "1ace5cc1-08df-48b4-aea0-f500022d5d50",
   "metadata": {},
   "outputs": [
    {
     "name": "stdin",
     "output_type": "stream",
     "text": [
      "Enter your name: Arun\n",
      "Enter your age: 30\n",
      "Enter your school name: HOPE \n",
      "Enter your drgree: BE-CSE\n"
     ]
    }
   ],
   "source": [
    "#3. Buy input\n",
    "input('Enter your name:');\n",
    "input('Enter your age:');\n",
    "input('Enter your school name:');\n",
    "input('Enter your drgree:');"
   ]
  },
  {
   "cell_type": "code",
   "execution_count": 14,
   "id": "a539d40b-e687-4a4d-bc81-7baa58429013",
   "metadata": {},
   "outputs": [
    {
     "name": "stdout",
     "output_type": "stream",
     "text": [
      "a= 43\n",
      "b= 34\n",
      "add= 77\n"
     ]
    }
   ],
   "source": [
    "#4.Addition\n",
    "a= 43 \n",
    "b= 34 \n",
    "add = a+b\n",
    "print('a=',a)\n",
    "print('b=',b)\n",
    "print('add=',add)"
   ]
  },
  {
   "cell_type": "code",
   "execution_count": 17,
   "id": "4425a4dc-4e92-4357-b7ec-a40f100e08fe",
   "metadata": {},
   "outputs": [
    {
     "name": "stdout",
     "output_type": "stream",
     "text": [
      "a= 43\n",
      "b= 34\n",
      "Sub= 9\n"
     ]
    }
   ],
   "source": [
    "#5.Sub\n",
    "a= 43 \n",
    "b= 34 \n",
    "Sub= a-b\n",
    "print('a=',a)\n",
    "print('b=',b)\n",
    "print('Sub=',Sub)"
   ]
  },
  {
   "cell_type": "code",
   "execution_count": 18,
   "id": "460ca02b-8075-4089-b926-df15ce34ac69",
   "metadata": {},
   "outputs": [
    {
     "name": "stdout",
     "output_type": "stream",
     "text": [
      "a= 63\n",
      "b= 97\n",
      "Mul= 6111\n"
     ]
    }
   ],
   "source": [
    "#6.mul\n",
    "a= 63 \n",
    "b= 97\n",
    "Mul= a*b\n",
    "print('a=',a)\n",
    "print('b=',b)\n",
    "print('Mul=',Mul)"
   ]
  },
  {
   "cell_type": "code",
   "execution_count": 20,
   "id": "4f2a3bce-bc3c-4e6c-8b59-579e21d7c3fb",
   "metadata": {},
   "outputs": [
    {
     "name": "stdout",
     "output_type": "stream",
     "text": [
      "a= 76\n",
      "b= 31\n",
      "Div= 2.4516129032258065\n"
     ]
    }
   ],
   "source": [
    "#7.Div\n",
    "a= 76\n",
    "b= 31\n",
    "Div= a/b\n",
    "print('a=',a)\n",
    "print('b=',b)\n",
    "print('Div=',Div)"
   ]
  },
  {
   "cell_type": "code",
   "execution_count": 23,
   "id": "da4d5350-a77e-471f-a995-a39abd9dd044",
   "metadata": {},
   "outputs": [
    {
     "name": "stdout",
     "output_type": "stream",
     "text": [
      "a= 76\n",
      "b= 31\n",
      "Floordiv= 2\n"
     ]
    }
   ],
   "source": [
    "#8.FloorDiv\n",
    "a= 76\n",
    "b= 31\n",
    "Floordiv= a//b\n",
    "print('a=',a)\n",
    "print('b=',b)\n",
    "print('Floordiv=',Floordiv)"
   ]
  },
  {
   "cell_type": "code",
   "execution_count": 25,
   "id": "c937e601-25da-43af-a2bd-5d89ee35c166",
   "metadata": {},
   "outputs": [
    {
     "name": "stdout",
     "output_type": "stream",
     "text": [
      "a= 76\n",
      "b= 31\n",
      "ModDiv= 14\n"
     ]
    }
   ],
   "source": [
    "#9.ModDiv\n",
    "a= 76\n",
    "b= 31\n",
    "Mod_Div= a%b\n",
    "print('a=',a)\n",
    "print('b=',b)\n",
    "print('ModDiv=',Mod_Div)"
   ]
  },
  {
   "cell_type": "code",
   "execution_count": 26,
   "id": "c3e08cf5-7b0e-4ac2-8c45-2d5affc21c8d",
   "metadata": {},
   "outputs": [
    {
     "name": "stdout",
     "output_type": "stream",
     "text": [
      "a= 4\n",
      "b= 4\n",
      "Power= 256\n"
     ]
    }
   ],
   "source": [
    "#10.Power\n",
    "a= 4\n",
    "b= 4\n",
    "power= a**b\n",
    "print('a=',a)\n",
    "print('b=',b)\n",
    "print('Power=',power)"
   ]
  },
  {
   "cell_type": "code",
   "execution_count": null,
   "id": "0f19e7c9-8323-4b7b-a0db-4d7bbd4be47a",
   "metadata": {},
   "outputs": [],
   "source": []
  }
 ],
 "metadata": {
  "kernelspec": {
   "display_name": "Python 3 (ipykernel)",
   "language": "python",
   "name": "python3"
  },
  "language_info": {
   "codemirror_mode": {
    "name": "ipython",
    "version": 3
   },
   "file_extension": ".py",
   "mimetype": "text/x-python",
   "name": "python",
   "nbconvert_exporter": "python",
   "pygments_lexer": "ipython3",
   "version": "3.12.7"
  }
 },
 "nbformat": 4,
 "nbformat_minor": 5
}
